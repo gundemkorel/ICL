{
 "cells": [
  {
   "cell_type": "code",
   "execution_count": 20,
   "id": "41b0320e-a1f0-461d-a177-c53850c11aed",
   "metadata": {},
   "outputs": [],
   "source": [
    "from ICL_modules import data_loader"
   ]
  },
  {
   "cell_type": "code",
   "execution_count": 21,
   "id": "ab286771-8ea9-4d04-8de2-d432fca08185",
   "metadata": {},
   "outputs": [
    {
     "ename": "AttributeError",
     "evalue": "'glue_sst2' object has no attribute '_automatic_cut_by_length'",
     "output_type": "error",
     "traceback": [
      "\u001b[1;31m---------------------------------------------------------------------------\u001b[0m",
      "\u001b[1;31mAttributeError\u001b[0m                            Traceback (most recent call last)",
      "Cell \u001b[1;32mIn[21], line 1\u001b[0m\n\u001b[1;32m----> 1\u001b[0m data \u001b[38;5;241m=\u001b[39m data_loader\u001b[38;5;241m.\u001b[39mglue_sst2(from_cache \u001b[38;5;241m=\u001b[39m \u001b[38;5;28;01mFalse\u001b[39;00m)\n",
      "File \u001b[1;32m~\\Desktop\\LLM_calib2\\ICL_modules\\data_loader.py:110\u001b[0m, in \u001b[0;36mglue_sst2.__init__\u001b[1;34m(self, long_text_classification, from_cache)\u001b[0m\n\u001b[0;32m    108\u001b[0m     \u001b[38;5;28;01mimport\u001b[39;00m \u001b[38;5;21;01mdatasets\u001b[39;00m\n\u001b[0;32m    109\u001b[0m     \u001b[38;5;28mself\u001b[39m\u001b[38;5;241m.\u001b[39m_hgf_dataset \u001b[38;5;241m=\u001b[39m datasets\u001b[38;5;241m.\u001b[39mload_dataset(\u001b[38;5;124m\"\u001b[39m\u001b[38;5;124mglue\u001b[39m\u001b[38;5;124m\"\u001b[39m, \u001b[38;5;124m\"\u001b[39m\u001b[38;5;124msst2\u001b[39m\u001b[38;5;124m\"\u001b[39m)[\u001b[38;5;124m'\u001b[39m\u001b[38;5;124mtrain\u001b[39m\u001b[38;5;124m'\u001b[39m]\n\u001b[1;32m--> 110\u001b[0m     \u001b[38;5;28mself\u001b[39m\u001b[38;5;241m.\u001b[39m_complie_dataset()\n\u001b[0;32m    111\u001b[0m \u001b[38;5;28;01melse\u001b[39;00m:\n\u001b[0;32m    112\u001b[0m     \u001b[38;5;66;03m# with open(\"./StaICC/cached_dataset/sst2.dataset\", \"rb\") as pickle_file:\u001b[39;00m\n\u001b[0;32m    113\u001b[0m     pickle_file \u001b[38;5;241m=\u001b[39m pkgutil\u001b[38;5;241m.\u001b[39mget_data(\u001b[38;5;28mself\u001b[39m\u001b[38;5;241m.\u001b[39m_package_path, \u001b[38;5;124m'\u001b[39m\u001b[38;5;124mcached_dataset/sst2.dataset\u001b[39m\u001b[38;5;124m'\u001b[39m)\n",
      "File \u001b[1;32m~\\Desktop\\LLM_calib2\\ICL_modules\\data_loader.py:122\u001b[0m, in \u001b[0;36mglue_sst2._complie_dataset\u001b[1;34m(self)\u001b[0m\n\u001b[0;32m    119\u001b[0m     \u001b[38;5;28mself\u001b[39m\u001b[38;5;241m.\u001b[39mtable\u001b[38;5;241m.\u001b[39mappend(([\u001b[38;5;28mself\u001b[39m\u001b[38;5;241m.\u001b[39m_hgf_dataset[i][\u001b[38;5;124m\"\u001b[39m\u001b[38;5;124msentence\u001b[39m\u001b[38;5;124m\"\u001b[39m]], \u001b[38;5;28mself\u001b[39m\u001b[38;5;241m.\u001b[39m_hgf_dataset[i][\u001b[38;5;124m\"\u001b[39m\u001b[38;5;124mlabel\u001b[39m\u001b[38;5;124m\"\u001b[39m]))\n\u001b[0;32m    120\u001b[0m \u001b[38;5;28;01mdel\u001b[39;00m \u001b[38;5;28mself\u001b[39m\u001b[38;5;241m.\u001b[39m_hgf_dataset\n\u001b[1;32m--> 122\u001b[0m \u001b[38;5;28mself\u001b[39m\u001b[38;5;241m.\u001b[39m_automatic_cut_by_length()\n\u001b[0;32m    123\u001b[0m \u001b[38;5;28mself\u001b[39m\u001b[38;5;241m.\u001b[39m_shuffle()\n",
      "\u001b[1;31mAttributeError\u001b[0m: 'glue_sst2' object has no attribute '_automatic_cut_by_length'"
     ]
    }
   ],
   "source": [
    "data = data_loader.glue_sst2(from_cache = False)"
   ]
  },
  {
   "cell_type": "code",
   "execution_count": null,
   "id": "1aedc207-99e6-42da-ad34-66731067b4b0",
   "metadata": {},
   "outputs": [],
   "source": []
  }
 ],
 "metadata": {
  "kernelspec": {
   "display_name": "Python 3 (ipykernel)",
   "language": "python",
   "name": "python3"
  },
  "language_info": {
   "codemirror_mode": {
    "name": "ipython",
    "version": 3
   },
   "file_extension": ".py",
   "mimetype": "text/x-python",
   "name": "python",
   "nbconvert_exporter": "python",
   "pygments_lexer": "ipython3",
   "version": "3.12.3"
  }
 },
 "nbformat": 4,
 "nbformat_minor": 5
}
